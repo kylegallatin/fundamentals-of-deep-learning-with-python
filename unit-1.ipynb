{
 "cells": [
  {
   "cell_type": "markdown",
   "metadata": {},
   "source": [
    "# Unit 1 - Introduction to tensors with PyTorch\n",
    "\n",
    "Fundamentally, deep learning is applied mathematics. While some of the math is fairly complex and verbose, the basic building block that enables programmatic deep learning in libraries like PyTorch is the _tensor_. \n",
    "\n",
    "Tensors are single or multi-dimensional matrices on which we perform the mathematical operations that make deep learning possible. To create a tensor, we can use PyTorch's `torch.tensor` method."
   ]
  },
  {
   "cell_type": "code",
   "execution_count": 3,
   "metadata": {},
   "outputs": [
    {
     "data": {
      "text/plain": [
       "tensor([0])"
      ]
     },
     "execution_count": 3,
     "metadata": {},
     "output_type": "execute_result"
    }
   ],
   "source": [
    "import torch\n",
    "\n",
    "tensor = torch.tensor([0])\n",
    "\n",
    "print(tensor)"
   ]
  },
  {
   "cell_type": "markdown",
   "metadata": {},
   "source": [
    "Notice that in the example above, we created a tensor from a Python list that had 1 element. To create tensors with more dimensions, we can use lists with more elements or nested lists."
   ]
  },
  {
   "cell_type": "code",
   "execution_count": 6,
   "metadata": {},
   "outputs": [
    {
     "name": "stdout",
     "output_type": "stream",
     "text": [
      "Tensor with 3 elements:\n",
      " tensor([0, 1, 2])\n",
      "Tensor with more than 1 dimension:\n",
      " tensor([[0, 1],\n",
      "        [2, 3],\n",
      "        [4, 5]])\n"
     ]
    }
   ],
   "source": [
    "three_element_tensor = torch.tensor([0,1,2])\n",
    "multidim_tensor = torch.tensor([[0,1],[2,3],[4,5]])\n",
    "\n",
    "print(f\"Tensor with 3 elements:\\n {three_element_tensor}\")\n",
    "print(f\"Tensor with more than 1 dimension:\\n {multidim_tensor}\")"
   ]
  },
  {
   "cell_type": "markdown",
   "metadata": {},
   "source": [
    "If you've used matrices and arrays in Python before, you might notice these look very similar to _NumPy arrays_. NumPy is a very popular library for working with matrices and arrays in Python, and provides the building blocks for data manipulation libraries such as Pandas."
   ]
  },
  {
   "cell_type": "code",
   "execution_count": 8,
   "metadata": {},
   "outputs": [
    {
     "name": "stdout",
     "output_type": "stream",
     "text": [
      "[0]\n"
     ]
    }
   ],
   "source": [
    "import numpy as np\n",
    "\n",
    "array = np.array([0])\n",
    "print(array)"
   ]
  },
  {
   "cell_type": "markdown",
   "metadata": {},
   "source": [
    "In fact, PyTorch even provides methods to create tensors directly from NumPy arrays - and even allows them to share the same memory location!"
   ]
  },
  {
   "cell_type": "code",
   "execution_count": 9,
   "metadata": {},
   "outputs": [
    {
     "name": "stdout",
     "output_type": "stream",
     "text": [
      "tensor([0])\n"
     ]
    }
   ],
   "source": [
    "tensor_from_numpy = torch.from_numpy(array)\n",
    "\n",
    "print(tensor_from_numpy)"
   ]
  },
  {
   "cell_type": "markdown",
   "metadata": {},
   "source": [
    "Woohoo! Of course, right around now you might be wondering, _what's the difference? Why do we even need NumPy_? \n",
    "\n",
    "Great questions honestly. "
   ]
  },
  {
   "cell_type": "code",
   "execution_count": null,
   "metadata": {},
   "outputs": [],
   "source": []
  }
 ],
 "metadata": {
  "kernelspec": {
   "display_name": "Python 3",
   "language": "python",
   "name": "python3"
  },
  "language_info": {
   "codemirror_mode": {
    "name": "ipython",
    "version": 3
   },
   "file_extension": ".py",
   "mimetype": "text/x-python",
   "name": "python",
   "nbconvert_exporter": "python",
   "pygments_lexer": "ipython3",
   "version": "3.8.3"
  }
 },
 "nbformat": 4,
 "nbformat_minor": 4
}
